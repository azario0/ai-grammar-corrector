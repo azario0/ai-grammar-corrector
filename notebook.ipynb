{
 "cells": [
  {
   "cell_type": "markdown",
   "id": "27303b2a",
   "metadata": {},
   "source": [
    "# The user selects a source <br> language"
   ]
  },
  {
   "cell_type": "code",
   "execution_count": 3,
   "id": "67079110",
   "metadata": {},
   "outputs": [
    {
     "name": "stdout",
     "output_type": "stream",
     "text": [
      "select a language : \n",
      "language selected : english\n"
     ]
    }
   ],
   "source": [
    "print('select a language : ')\n",
    "\n",
    "languages = [\n",
    "    \"english\",\n",
    "    \"french\",\n",
    "    \"arabic\",\n",
    "    \"spanish\",\n",
    "    \"german\",\n",
    "    \"italian\",\n",
    "    \"portuguese\",\n",
    "    \"russian\",\n",
    "    \"chinese (simplified)\",\n",
    "    \"chinese (traditional)\",\n",
    "    \"japanese\",\n",
    "    \"korean\",\n",
    "    \"turkish\",\n",
    "    \"hindi\",\n",
    "    \"bengali\",\n",
    "    \"urdu\",\n",
    "    \"swahili\",\n",
    "    \"dutch\",\n",
    "    \"greek\",\n",
    "    \"polish\"\n",
    "]\n",
    "\n",
    "language_selected = languages[0]\n",
    "print(f'language selected : {language_selected}')\n"
   ]
  },
  {
   "cell_type": "markdown",
   "id": "9573478d",
   "metadata": {},
   "source": [
    "# The user input the text correct the grammar"
   ]
  },
  {
   "cell_type": "code",
   "execution_count": 4,
   "id": "634aaf9f",
   "metadata": {},
   "outputs": [],
   "source": [
    "user_text = \"Hello everyone ! i'm zohir from algeria !\""
   ]
  },
  {
   "cell_type": "markdown",
   "id": "48e76666",
   "metadata": {},
   "source": [
    "# setting up the gemini model"
   ]
  },
  {
   "cell_type": "code",
   "execution_count": null,
   "id": "89f61097",
   "metadata": {},
   "outputs": [
    {
     "name": "stderr",
     "output_type": "stream",
     "text": [
      "/home/azar/.local/lib/python3.12/site-packages/tqdm/auto.py:21: TqdmWarning: IProgress not found. Please update jupyter and ipywidgets. See https://ipywidgets.readthedocs.io/en/stable/user_install.html\n",
      "  from .autonotebook import tqdm as notebook_tqdm\n"
     ]
    }
   ],
   "source": [
    "import google.generativeai as genai\n",
    "\n",
    "# 1. Configure with your API key\n",
    "genai.configure(api_key=\"Your_api_key\")\n",
    "\n",
    "# 2. Create a model\n",
    "model = genai.GenerativeModel(\"gemini-1.5-flash\")  # you can also use gemini-1.5-pro etc.\n",
    "\n"
   ]
  },
  {
   "cell_type": "markdown",
   "id": "5f94e65f",
   "metadata": {},
   "source": [
    "# Prompt engeneering"
   ]
  },
  {
   "cell_type": "code",
   "execution_count": 6,
   "id": "510d1885",
   "metadata": {},
   "outputs": [],
   "source": [
    "# Optimized grammar correction prompt\n",
    "prompt = f\"\"\"\n",
    "You are a professional grammar corrector.\n",
    "The following text is written in {language_selected}.\n",
    "Your task: Correct any grammar, spelling, or punctuation mistakes, while keeping the original meaning and style.\n",
    "Return only the corrected text, without explanations.\n",
    "\n",
    "Text:\n",
    "{user_text}\n",
    "\"\"\"\n"
   ]
  },
  {
   "cell_type": "markdown",
   "id": "d438ba67",
   "metadata": {},
   "source": [
    "# Generating and printing the response"
   ]
  },
  {
   "cell_type": "code",
   "execution_count": 7,
   "id": "69ab56c6",
   "metadata": {},
   "outputs": [
    {
     "name": "stdout",
     "output_type": "stream",
     "text": [
      "Hello everyone! I'm Zohir from Algeria!\n",
      "\n"
     ]
    }
   ],
   "source": [
    "# 3. Send a prompt\n",
    "response = model.generate_content(prompt)\n",
    "\n",
    "# 4. Print the output\n",
    "print(response.text)"
   ]
  },
  {
   "cell_type": "code",
   "execution_count": null,
   "id": "36b7eb90",
   "metadata": {},
   "outputs": [],
   "source": []
  }
 ],
 "metadata": {
  "kernelspec": {
   "display_name": "Python 3",
   "language": "python",
   "name": "python3"
  },
  "language_info": {
   "codemirror_mode": {
    "name": "ipython",
    "version": 3
   },
   "file_extension": ".py",
   "mimetype": "text/x-python",
   "name": "python",
   "nbconvert_exporter": "python",
   "pygments_lexer": "ipython3",
   "version": "3.12.3"
  }
 },
 "nbformat": 4,
 "nbformat_minor": 5
}
